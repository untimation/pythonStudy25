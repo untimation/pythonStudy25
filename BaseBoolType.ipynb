{
  "nbformat": 4,
  "nbformat_minor": 0,
  "metadata": {
    "colab": {
      "provenance": [],
      "authorship_tag": "ABX9TyNKndyqi4h5QO6JE3rD1K0R",
      "include_colab_link": true
    },
    "kernelspec": {
      "name": "python3",
      "display_name": "Python 3"
    },
    "language_info": {
      "name": "python"
    }
  },
  "cells": [
    {
      "cell_type": "markdown",
      "metadata": {
        "id": "view-in-github",
        "colab_type": "text"
      },
      "source": [
        "<a href=\"https://colab.research.google.com/github/untimation/pythonStudy25/blob/master/BaseBoolType.ipynb\" target=\"_parent\"><img src=\"https://colab.research.google.com/assets/colab-badge.svg\" alt=\"Open In Colab\"/></a>"
      ]
    },
    {
      "cell_type": "code",
      "execution_count": 3,
      "metadata": {
        "colab": {
          "base_uri": "https://localhost:8080/"
        },
        "id": "0CAWTZu_FAjY",
        "outputId": "3ed7b0cf-1d8e-4490-d6b3-dbc06671e0e5"
      },
      "outputs": [
        {
          "output_type": "execute_result",
          "data": {
            "text/plain": [
              "False"
            ]
          },
          "metadata": {},
          "execution_count": 3
        }
      ],
      "source": [
        "# 불(bool) 자료형이란 참(True)과 거짓(False)을 나타내는 자료형이다\n",
        "# 불 자료형은 참과 거짓 2개의 값만 가질수 있다\n",
        "a = True\n",
        "b = False\n",
        "type(a) # = bool\n",
        "type(b) # = bool\n",
        "\n",
        "1 == 1 # True\n",
        "2 > 1 # True\n",
        "2 <= 1 # False"
      ]
    },
    {
      "cell_type": "code",
      "source": [
        "a = [1, 2, 3, 4]\n",
        "while a: # a 배열에 아무것도 없으면 반복을 중단\n",
        "   print(a.pop()) # pop 은 a의 배열 마지막을 반환하고 없애줌"
      ],
      "metadata": {
        "colab": {
          "base_uri": "https://localhost:8080/"
        },
        "id": "eQNN224UHGPk",
        "outputId": "7281f227-626f-4236-b525-1835352d046c"
      },
      "execution_count": 4,
      "outputs": [
        {
          "output_type": "stream",
          "name": "stdout",
          "text": [
            "4\n",
            "3\n",
            "2\n",
            "1\n"
          ]
        }
      ]
    }
  ]
}