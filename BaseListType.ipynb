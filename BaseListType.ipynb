{
  "nbformat": 4,
  "nbformat_minor": 0,
  "metadata": {
    "colab": {
      "provenance": [],
      "authorship_tag": "ABX9TyNJmajja/oczohdxKXgf3LP",
      "include_colab_link": true
    },
    "kernelspec": {
      "name": "python3",
      "display_name": "Python 3"
    },
    "language_info": {
      "name": "python"
    }
  },
  "cells": [
    {
      "cell_type": "markdown",
      "metadata": {
        "id": "view-in-github",
        "colab_type": "text"
      },
      "source": [
        "<a href=\"https://colab.research.google.com/github/untimation/pythonStudy25/blob/master/BaseListType.ipynb\" target=\"_parent\"><img src=\"https://colab.research.google.com/assets/colab-badge.svg\" alt=\"Open In Colab\"/></a>"
      ]
    },
    {
      "cell_type": "code",
      "execution_count": 4,
      "metadata": {
        "colab": {
          "base_uri": "https://localhost:8080/"
        },
        "id": "OhcOTZ7VPyQu",
        "outputId": "87cf6bf7-8ee1-4e4d-f98a-f162b6a12653"
      },
      "outputs": [
        {
          "output_type": "execute_result",
          "data": {
            "text/plain": [
              "5"
            ]
          },
          "metadata": {},
          "execution_count": 4
        }
      ],
      "source": [
        "# 리스트 (배열)\n",
        "odd = [1,3,5,7,9] # 리스트명 = [요소1, 요소2, 요소3, ...]\n",
        "odd[2]"
      ]
    },
    {
      "cell_type": "code",
      "source": [
        "a = [] # 빈 배열\n",
        "b = [1, 2, 3] # 숫자형의 배열\n",
        "c = ['Life', 'is', 'too', 'short'] # 문자형의 배열\n",
        "d = [1, 2, 'Life', 'is'] # 숫자형과 문자형이 섞인 배열\n",
        "e = [1, 2, ['Life', 'is']] # 배열 안의 배열 # 2차원\n",
        "\n",
        "e[2][0] # = Life\n",
        "b[0] + b[2] # = 4\n",
        "\n",
        "f = [1, 2, ['a', 'b', ['Life', 'is']]] # 3차원\n",
        "f[2][2][1] # = 'is'"
      ],
      "metadata": {
        "colab": {
          "base_uri": "https://localhost:8080/",
          "height": 35
        },
        "id": "0b4wYozYT6KB",
        "outputId": "5cc746dc-5c56-490a-8ace-00776e8298f2"
      },
      "execution_count": 7,
      "outputs": [
        {
          "output_type": "execute_result",
          "data": {
            "text/plain": [
              "'is'"
            ],
            "application/vnd.google.colaboratory.intrinsic+json": {
              "type": "string"
            }
          },
          "metadata": {},
          "execution_count": 7
        }
      ]
    },
    {
      "cell_type": "code",
      "source": [
        "# 슬라이싱으로 2개 이상의 값을 뽑을수 있다.\n",
        "a = [1,2,3,4,5]\n",
        "a[0:2] # = a[:2]\n",
        "\n",
        "b = a[:2]\n",
        "c = a[2:]\n",
        "print(c)"
      ],
      "metadata": {
        "colab": {
          "base_uri": "https://localhost:8080/"
        },
        "id": "qa7a3bPxU7cR",
        "outputId": "01219027-043e-4af5-c9f4-4e602aeea732"
      },
      "execution_count": 20,
      "outputs": [
        {
          "output_type": "stream",
          "name": "stdout",
          "text": [
            "[3, 4, 5]\n"
          ]
        }
      ]
    },
    {
      "cell_type": "code",
      "source": [
        "a = [1, 2, 3, ['a', 'b', 'c'], 4, 5]\n",
        "a[2:5]\n",
        "a[3][:2]"
      ],
      "metadata": {
        "colab": {
          "base_uri": "https://localhost:8080/"
        },
        "id": "S2yTyl1yWITR",
        "outputId": "b288e4b8-d524-438b-e32f-d861bc99674d"
      },
      "execution_count": 22,
      "outputs": [
        {
          "output_type": "execute_result",
          "data": {
            "text/plain": [
              "['a', 'b']"
            ]
          },
          "metadata": {},
          "execution_count": 22
        }
      ]
    },
    {
      "cell_type": "code",
      "source": [
        "a = [3, 2, 2]\n",
        "b = [4, 6, 5]\n",
        "c = a + b\n",
        "c.append(7) # 배열 맨 마지막에 추가 배열도 추가 가능\n",
        "print(c)\n",
        "c.sort() # 정렬을 순서대로\n",
        "print(c)\n",
        "c.reverse() # 정렬을 역순으로\n",
        "print(c)\n",
        "c.index(2) # () 안에 있는 값의 위칫값을 반환\n",
        "c.insert(3,44) # (위치값, 추가할 값)\n",
        "print(c)\n",
        "c.remove(4)\n",
        "print(c)\n",
        "c.pop() # 배열의 맨 마지막을 반환후 삭제()안에 위치값이 있다면 그에 해당하는 값을 반환후 삭제\n",
        "c.count(2) # 배열안에 ()값이 몇개 있는지 확인후 반환\n",
        "c.extend([8, 9]) # = c += [8, 9] # = c = c + [8, 9]\n",
        "print(c)"
      ],
      "metadata": {
        "colab": {
          "base_uri": "https://localhost:8080/"
        },
        "id": "NobMA25sWWJA",
        "outputId": "beb79e43-0d13-45b3-f7a0-2c768babd368"
      },
      "execution_count": 42,
      "outputs": [
        {
          "output_type": "stream",
          "name": "stdout",
          "text": [
            "[3, 2, 2, 4, 6, 5, 7]\n",
            "[2, 2, 3, 4, 5, 6, 7]\n",
            "[7, 6, 5, 4, 3, 2, 2]\n",
            "[7, 6, 5, 44, 4, 3, 2, 2]\n",
            "[7, 6, 5, 44, 3, 2, 2]\n",
            "[7, 6, 5, 44, 3, 2, 8, 9]\n"
          ]
        }
      ]
    }
  ]
}