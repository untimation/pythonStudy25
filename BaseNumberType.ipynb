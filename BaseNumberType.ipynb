{
  "nbformat": 4,
  "nbformat_minor": 0,
  "metadata": {
    "colab": {
      "provenance": [],
      "authorship_tag": "ABX9TyObkkusuZB2Nur9okMUgAkC",
      "include_colab_link": true
    },
    "kernelspec": {
      "name": "python3",
      "display_name": "Python 3"
    },
    "language_info": {
      "name": "python"
    }
  },
  "cells": [
    {
      "cell_type": "markdown",
      "metadata": {
        "id": "view-in-github",
        "colab_type": "text"
      },
      "source": [
        "<a href=\"https://colab.research.google.com/github/untimation/pythonStudy25/blob/master/BaseNumberType.ipynb\" target=\"_parent\"><img src=\"https://colab.research.google.com/assets/colab-badge.svg\" alt=\"Open In Colab\"/></a>"
      ]
    },
    {
      "cell_type": "code",
      "execution_count": 7,
      "metadata": {
        "colab": {
          "base_uri": "https://localhost:8080/"
        },
        "id": "fZm8OIdk6y11",
        "outputId": "80ca96ab-7cb4-4e9b-cdc1-a2c82343fc19"
      },
      "outputs": [
        {
          "output_type": "stream",
          "name": "stdout",
          "text": [
            "123\n",
            "-123\n",
            "0\n"
          ]
        }
      ],
      "source": [
        "# 주석은 실행이 되지 않는 문구를 말한다.\n",
        "# 주석은 코드에 설명을 작성하는 부분으로 많이 사용한다.\n",
        "\n",
        "# 숫자 자료형 (Number타입) : 숫자 형태로 이루어진 자료형\n",
        "# 123 정수형\n",
        "# 12.34 실수형\n",
        "# 8진수, 16진수 등도 포함된다.\n",
        "\n",
        "# 정수형(integer) 양의정수, 음의정수, 0 등을 표현\n",
        "a = 123       # java 인경우 : int a = 123;\n",
        "b = -123\n",
        "c = 0\n",
        "\n",
        "print(a)\n",
        "print(b)\n",
        "print(c)"
      ]
    },
    {
      "cell_type": "code",
      "source": [
        "# 실수형(floating-point) : 소수점이 포함된 숫자\n",
        "\n",
        "d = 1.2\n",
        "e = -3.45\n",
        "\n",
        "print(d)\n",
        "print(e)"
      ],
      "metadata": {
        "colab": {
          "base_uri": "https://localhost:8080/"
        },
        "id": "8TpTVP_09EYx",
        "outputId": "30e5a926-175a-482d-d1ca-01be90873204"
      },
      "execution_count": 8,
      "outputs": [
        {
          "output_type": "stream",
          "name": "stdout",
          "text": [
            "1.2\n",
            "-3.45\n"
          ]
        }
      ]
    },
    {
      "cell_type": "code",
      "source": [
        "# 지수표현 방법\n",
        "\n",
        "f = 1.23E3    # 1.23*10^3\n",
        "g = 1.23e-3   # 1.23*10^-3\n",
        "\n",
        "print(f)\n",
        "print(g)"
      ],
      "metadata": {
        "colab": {
          "base_uri": "https://localhost:8080/"
        },
        "id": "0D5_hFcT9YDx",
        "outputId": "bca55531-12c4-46bb-e0d5-f185eeaaf508"
      },
      "execution_count": 13,
      "outputs": [
        {
          "output_type": "stream",
          "name": "stdout",
          "text": [
            "1230.0\n",
            "0.00123\n"
          ]
        }
      ]
    },
    {
      "cell_type": "code",
      "source": [
        "# 8진수 -> 0~7까지 8개로 구현되는 숫자 ex) 0 1 2 3 4 5 6 7 10 11 12 ...\n",
        "# 16진수 -> 0~f까지 16개로 구현되는 숫자 ex) 0 1 2 3 4 5 6 7 8 9 a b c d e f 10 11 12 ...\n",
        "\n",
        "\n",
        "h = 0o77  # 8진수 77\n",
        "print(h)  # 10진수 변환 출력 63\n",
        "\n",
        "i = 0xaa  # 16진수 aa\n",
        "print(i)  # 10진수 변환 출력 170"
      ],
      "metadata": {
        "colab": {
          "base_uri": "https://localhost:8080/"
        },
        "id": "hsF6SYVn-X9y",
        "outputId": "a3310893-ed5b-45b2-eac0-a81f2da9a18e"
      },
      "execution_count": 16,
      "outputs": [
        {
          "output_type": "stream",
          "name": "stdout",
          "text": [
            "63\n",
            "170\n"
          ]
        }
      ]
    },
    {
      "cell_type": "code",
      "source": [
        "# 사칙연산 (+, - , *, /)-> 오칙연산 (+, -, *, /, %: 나머지)\n",
        "\n",
        "a = 3\n",
        "b = 4\n",
        "c = a + b\n",
        "print(c)"
      ],
      "metadata": {
        "colab": {
          "base_uri": "https://localhost:8080/"
        },
        "id": "g6_-zHHAAcaR",
        "outputId": "0e12e0b1-d099-49b3-e1c3-9f846ea83607"
      },
      "execution_count": 17,
      "outputs": [
        {
          "output_type": "stream",
          "name": "stdout",
          "text": [
            "7\n"
          ]
        }
      ]
    },
    {
      "cell_type": "code",
      "source": [
        "d = a - b\n",
        "print(d)"
      ],
      "metadata": {
        "colab": {
          "base_uri": "https://localhost:8080/"
        },
        "id": "V1y9w-n4GHEY",
        "outputId": "d225757d-8699-48be-a577-db9318894600"
      },
      "execution_count": 18,
      "outputs": [
        {
          "output_type": "stream",
          "name": "stdout",
          "text": [
            "-1\n"
          ]
        }
      ]
    },
    {
      "cell_type": "code",
      "source": [
        "e = 7 % 3   # 나머지를 구하는 연산자\n",
        "print(e)"
      ],
      "metadata": {
        "colab": {
          "base_uri": "https://localhost:8080/"
        },
        "id": "Ye9uSnLCGOE3",
        "outputId": "f7e98e78-9005-44ad-d46d-bf971370b697"
      },
      "execution_count": 19,
      "outputs": [
        {
          "output_type": "stream",
          "name": "stdout",
          "text": [
            "1\n"
          ]
        }
      ]
    },
    {
      "cell_type": "code",
      "source": [
        "f = 7 / 3 # 나누기를 하는 연산자\n",
        "print(f)"
      ],
      "metadata": {
        "colab": {
          "base_uri": "https://localhost:8080/"
        },
        "id": "wsxbHniVGlaX",
        "outputId": "e0936b0a-4d31-479f-c6a3-888272d969cd"
      },
      "execution_count": 20,
      "outputs": [
        {
          "output_type": "stream",
          "name": "stdout",
          "text": [
            "2.3333333333333335\n"
          ]
        }
      ]
    },
    {
      "cell_type": "code",
      "source": [
        "g = 7 // 3 # 나눈 몫을 구하는 연산자\n",
        "print(g)"
      ],
      "metadata": {
        "colab": {
          "base_uri": "https://localhost:8080/"
        },
        "id": "wP9X-UCkG4sf",
        "outputId": "c465535b-3ffb-4c0f-aa1d-c5e317d74d5c"
      },
      "execution_count": 21,
      "outputs": [
        {
          "output_type": "stream",
          "name": "stdout",
          "text": [
            "2\n"
          ]
        }
      ]
    },
    {
      "cell_type": "code",
      "source": [
        "a = 3\n",
        "b = 4\n",
        "a ** b # a 제곱 b"
      ],
      "metadata": {
        "colab": {
          "base_uri": "https://localhost:8080/"
        },
        "id": "sk-n92XKHGP_",
        "outputId": "12509254-9bd1-4aaf-b710-6cd68dc66f4c"
      },
      "execution_count": 22,
      "outputs": [
        {
          "output_type": "execute_result",
          "data": {
            "text/plain": [
              "81"
            ]
          },
          "metadata": {},
          "execution_count": 22
        }
      ]
    },
    {
      "cell_type": "code",
      "source": [
        "# 복합연산자\n",
        "a = 1\n",
        "a = a + 1  # 1 + 1\n",
        "print(a)"
      ],
      "metadata": {
        "colab": {
          "base_uri": "https://localhost:8080/"
        },
        "id": "j5UgmZDJHXdH",
        "outputId": "630f7fa4-496b-44dd-ba6b-8fa37d9eb6ac"
      },
      "execution_count": 23,
      "outputs": [
        {
          "output_type": "stream",
          "name": "stdout",
          "text": [
            "2\n"
          ]
        }
      ]
    },
    {
      "cell_type": "code",
      "source": [
        "a += 1 # a = a + 1\n",
        "print(a)\n",
        "\n",
        "# 유사 형태 -=, *=, /=, %="
      ],
      "metadata": {
        "colab": {
          "base_uri": "https://localhost:8080/"
        },
        "id": "diVPMkl4HnqO",
        "outputId": "66a72f0b-22e9-48ac-9012-2c45ae8356a0"
      },
      "execution_count": 24,
      "outputs": [
        {
          "output_type": "stream",
          "name": "stdout",
          "text": [
            "3\n"
          ]
        }
      ]
    },
    {
      "cell_type": "code",
      "source": [],
      "metadata": {
        "id": "nScc7CqlHyTI"
      },
      "execution_count": null,
      "outputs": []
    },
    {
      "cell_type": "code",
      "source": [],
      "metadata": {
        "id": "AXbd7G1_HYqf"
      },
      "execution_count": null,
      "outputs": []
    }
  ]
}