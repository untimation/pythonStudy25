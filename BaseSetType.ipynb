{
  "nbformat": 4,
  "nbformat_minor": 0,
  "metadata": {
    "colab": {
      "provenance": [],
      "authorship_tag": "ABX9TyM4g7/UZXqfcJC7miwYAjgI",
      "include_colab_link": true
    },
    "kernelspec": {
      "name": "python3",
      "display_name": "Python 3"
    },
    "language_info": {
      "name": "python"
    }
  },
  "cells": [
    {
      "cell_type": "markdown",
      "metadata": {
        "id": "view-in-github",
        "colab_type": "text"
      },
      "source": [
        "<a href=\"https://colab.research.google.com/github/untimation/pythonStudy25/blob/master/BaseSetType.ipynb\" target=\"_parent\"><img src=\"https://colab.research.google.com/assets/colab-badge.svg\" alt=\"Open In Colab\"/></a>"
      ]
    },
    {
      "cell_type": "code",
      "execution_count": 8,
      "metadata": {
        "colab": {
          "base_uri": "https://localhost:8080/"
        },
        "id": "-4c46IyJ6zqw",
        "outputId": "69ed2a71-16c3-4f40-af35-1f7b099e316b"
      },
      "outputs": [
        {
          "output_type": "execute_result",
          "data": {
            "text/plain": [
              "(1, 2, 3)"
            ]
          },
          "metadata": {},
          "execution_count": 8
        }
      ],
      "source": [
        "# set 은 집합 자료형\n",
        "# 집합 자료형은 set 키워드를 사용해 만든다\n",
        "s1 = set([1, 2, 3])\n",
        "s1\n",
        "\n",
        "# 집합 자료형은 순서와 중복을 무시한다\n",
        "s2 = set(\"Hello\")\n",
        "s2 # = {'e', 'H', 'l', 'o'}\n",
        "\n",
        " # 집합 자료형의 순서를 지키게 하기 위해서는 타입을 리스트나 튜플로 바꿔줘야 한다\n",
        "a1 = set([1,2,3])\n",
        "a2 = list(a1)\n",
        "t1 = tuple(a1)"
      ]
    },
    {
      "cell_type": "code",
      "source": [
        "# set 자료형으로 교,합,차 를 구하기\n",
        "s1 = set([1, 2, 3, 4, 5, 6])\n",
        "s2 = set([4, 5, 6, 7, 8, 9])\n",
        "\n",
        "# 교집합\n",
        "s1 & s2 # = {4, 5, 6}\n",
        "s1.intersection(s2) # = {4, 5, 6}\n",
        "\n",
        "# 합집합\n",
        "s1 | s2 # = {1, 2, 3, 4, 5, 6, 7, 8, 9}\n",
        "s1.union(s2) # = {1, 2, 3, 4, 5, 6, 7, 8, 9}\n",
        "\n",
        "# 차집합\n",
        "s1 - s2 # = {1, 2, 3}\n",
        "s1.difference(s2) # = {1, 2, 3}\n",
        "s2 - s1 # = {7, 8, 9}\n",
        "s2.difference(s1) # = {7, 8, 9}"
      ],
      "metadata": {
        "colab": {
          "base_uri": "https://localhost:8080/"
        },
        "id": "dJPAE8hwClEl",
        "outputId": "e007186c-9f7a-4ad3-c3dc-29a77c4c8d03"
      },
      "execution_count": 9,
      "outputs": [
        {
          "output_type": "execute_result",
          "data": {
            "text/plain": [
              "{4, 5, 6}"
            ]
          },
          "metadata": {},
          "execution_count": 9
        }
      ]
    },
    {
      "cell_type": "code",
      "source": [
        "# 집합 자료형 관련 함수\n",
        "s1 = set([1, 2, 3])\n",
        "s1.add(4) # = {1, 2, 3, 4} 값 1개만 추가하기\n",
        "s1.update([5, 6, 7]) # = {1, 2, 3, 4, 5, 6, 7} 여러 개의 값을 한꺼번에 추가하기\n",
        "s1.remove(2) # = {1, 3, 4, 5, 6, 7} 특정값 제거"
      ],
      "metadata": {
        "colab": {
          "base_uri": "https://localhost:8080/"
        },
        "id": "xLRdl2n7D7aV",
        "outputId": "d4a22fbc-81aa-4fba-f9d2-d702260da8a6"
      },
      "execution_count": 12,
      "outputs": [
        {
          "output_type": "execute_result",
          "data": {
            "text/plain": [
              "{1, 3, 4, 5, 6, 7}"
            ]
          },
          "metadata": {},
          "execution_count": 12
        }
      ]
    }
  ]
}