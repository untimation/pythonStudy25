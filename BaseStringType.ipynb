{
  "nbformat": 4,
  "nbformat_minor": 0,
  "metadata": {
    "colab": {
      "provenance": [],
      "authorship_tag": "ABX9TyPLPeIwOqZ2vJ1jI+ogy/ck",
      "include_colab_link": true
    },
    "kernelspec": {
      "name": "python3",
      "display_name": "Python 3"
    },
    "language_info": {
      "name": "python"
    }
  },
  "cells": [
    {
      "cell_type": "markdown",
      "metadata": {
        "id": "view-in-github",
        "colab_type": "text"
      },
      "source": [
        "<a href=\"https://colab.research.google.com/github/untimation/pythonStudy25/blob/master/BaseStringType.ipynb\" target=\"_parent\"><img src=\"https://colab.research.google.com/assets/colab-badge.svg\" alt=\"Open In Colab\"/></a>"
      ]
    },
    {
      "cell_type": "code",
      "execution_count": 4,
      "metadata": {
        "colab": {
          "base_uri": "https://localhost:8080/"
        },
        "id": "I2EDjvvWJb3c",
        "outputId": "dcf115e2-6b45-4ec4-e0a6-c90a1ddcfb6f"
      },
      "outputs": [
        {
          "output_type": "stream",
          "name": "stdout",
          "text": [
            "hello worldhello worldhello world\n"
          ]
        }
      ],
      "source": [
        "# 큰 따옴표와 작은 따옴표를 쌍으로 사용 혼동해서 사용은 안된다.\n",
        "a = \"hello world\"\n",
        "b = 'hello world'\n",
        "# 3개씩 할때는 문자열이 길거나 줄바꿈 해도 묶을수 있다.\n",
        "c = \"\"\"hello world\"\"\"\n",
        "d = '''hello world'''\n",
        "\n",
        "# 이스케이프 코드를 사용해 보기 좋게 정렬할수 있다 ex) /n, /t\n",
        "\n",
        "# 문자열 + 문자열은 붙여서 나온다\n",
        "print(a + b)\n",
        "\n",
        "# 문자열 * 숫자형을 하면 그 수만큼 n번 반복해서 나온다\n",
        "print(a * 3)\n",
        "\n"
      ]
    },
    {
      "cell_type": "code",
      "source": [
        "e = \"Life is too short, You need Python\"\n",
        "print(len(e))   # 문자열의 길이를 구함\n",
        "print(e[3])     # 문자열에서 3번째 위치한 자리의 문자를 구함\n",
        "print(e[-1])    # 문자열의 마지막에 위치한 자리의 문자를 구함\n",
        "# e[0] = e[-0]"
      ],
      "metadata": {
        "colab": {
          "base_uri": "https://localhost:8080/"
        },
        "id": "eTsQG4oUNnEl",
        "outputId": "f8ae7a5d-d4f7-4814-9dec-229e44737a2d"
      },
      "execution_count": 6,
      "outputs": [
        {
          "output_type": "stream",
          "name": "stdout",
          "text": [
            "e\n"
          ]
        }
      ]
    }
  ]
}