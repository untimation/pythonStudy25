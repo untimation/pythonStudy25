{
  "nbformat": 4,
  "nbformat_minor": 0,
  "metadata": {
    "colab": {
      "provenance": [],
      "authorship_tag": "ABX9TyMzA0lB+2pPf6s5DKJsUbb6",
      "include_colab_link": true
    },
    "kernelspec": {
      "name": "python3",
      "display_name": "Python 3"
    },
    "language_info": {
      "name": "python"
    }
  },
  "cells": [
    {
      "cell_type": "markdown",
      "metadata": {
        "id": "view-in-github",
        "colab_type": "text"
      },
      "source": [
        "<a href=\"https://colab.research.google.com/github/untimation/pythonStudy25/blob/master/BaseTupleType.ipynb\" target=\"_parent\"><img src=\"https://colab.research.google.com/assets/colab-badge.svg\" alt=\"Open In Colab\"/></a>"
      ]
    },
    {
      "cell_type": "code",
      "execution_count": 2,
      "metadata": {
        "colab": {
          "base_uri": "https://localhost:8080/"
        },
        "id": "ImnPsImadqOq",
        "outputId": "248d6dee-feb8-4fd8-9825-ad0e615b5b4e"
      },
      "outputs": [
        {
          "output_type": "stream",
          "name": "stdout",
          "text": [
            "(1, 2, 'a', 'b', 3, 4)\n",
            "(3, 4, 3, 4, 3, 4)\n"
          ]
        }
      ],
      "source": [
        "# 튜플\n",
        "# 배열은 [], 튜플은 ()로 둘러싼다\n",
        "# 배열은 CRUD 가 되지만 튜플은 CR만 된다.\n",
        "t1 = () # 빈 튜플\n",
        "t2 = (1,) #  1개의 값만 가질때는 값 뒤에 쉼표\n",
        "t3 = (1, 2, 3) # 2개 이상의 값을 가질때는 필요없음\n",
        "t4 = 1, 2, 3 # 튜플은 ()를 생략가능\n",
        "t5 = ('a', 'b', ('ab', 'cd')) # 배열처럼 다중배열도 가능\n",
        "\n",
        "# 튜플의 값을 수정, 변경이 안되서 sort, insert, remove, pop 들은 사용을 할수 없지만\n",
        "# 덧샘, 곱샘은 할수 있다\n",
        "t1 = (1, 2, 'a', 'b')\n",
        "t2 = (3, 4)\n",
        "t3 = t1 + t2\n",
        "print(t3)\n",
        "\n",
        "t2 = (3, 4)\n",
        "t3 = t2 * 3\n",
        "print(t3)"
      ]
    }
  ]
}