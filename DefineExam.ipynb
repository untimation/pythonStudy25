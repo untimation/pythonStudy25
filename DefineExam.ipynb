{
  "nbformat": 4,
  "nbformat_minor": 0,
  "metadata": {
    "colab": {
      "provenance": [],
      "authorship_tag": "ABX9TyNqLysLIrWDXcwnvPfK75yi",
      "include_colab_link": true
    },
    "kernelspec": {
      "name": "python3",
      "display_name": "Python 3"
    },
    "language_info": {
      "name": "python"
    }
  },
  "cells": [
    {
      "cell_type": "markdown",
      "metadata": {
        "id": "view-in-github",
        "colab_type": "text"
      },
      "source": [
        "<a href=\"https://colab.research.google.com/github/untimation/pythonStudy25/blob/master/DefineExam.ipynb\" target=\"_parent\"><img src=\"https://colab.research.google.com/assets/colab-badge.svg\" alt=\"Open In Colab\"/></a>"
      ]
    },
    {
      "cell_type": "code",
      "execution_count": 1,
      "metadata": {
        "colab": {
          "base_uri": "https://localhost:8080/"
        },
        "id": "bHvmcqpUp2rh",
        "outputId": "b284ffe2-caa2-4ee1-c0c5-6d6fa26d1264"
      },
      "outputs": [
        {
          "output_type": "stream",
          "name": "stdout",
          "text": [
            "7\n"
          ]
        }
      ],
      "source": [
        "# def는 함수나 메서드를 정의하는 문법이다.\n",
        "# 매개변수, 파라미터, 입력값\n",
        "\n",
        "# def 이름 (매개변수1, 매개변수2) :\n",
        "# 들여쓰기 실행문\n",
        "# 들여쓰기 return null | 값\n",
        "\n",
        "# 함수나 메서드는 반복적으로 수행되는 문을 따로 정의해 놓음\n",
        "# 정의를 먼저하고 나중에 호출하여 사용한다.\n",
        "# 호출할때는 .을 이용하여 이름을 불러오면 활용 가능함.\n",
        "\n",
        "a = 3\n",
        "b = 4\n",
        "c = a + b\n",
        "print(c)"
      ]
    },
    {
      "cell_type": "code",
      "source": [
        "# 위 코드를 함수로 변경한다.\n",
        "\n",
        "total1 = add (6, 6) # 이렇게 쓰면 안된다.\n",
        "print(total1)\n",
        "\n",
        "# 정의\n",
        "def add(a, b): # add 라는 함수 이름을 만들고 입력은 2개를 받는다.\n",
        "    z = a + b\n",
        "    return z   # add 함수 정의 종료\n",
        "\n",
        "# 활용\n",
        "total = add(4, 5)\n",
        "print(total)\n"
      ],
      "metadata": {
        "colab": {
          "base_uri": "https://localhost:8080/"
        },
        "id": "07vxf75Csp1D",
        "outputId": "423f7ddf-0f17-46ea-9ce4-489c227b152e"
      },
      "execution_count": 2,
      "outputs": [
        {
          "output_type": "stream",
          "name": "stdout",
          "text": [
            "9\n"
          ]
        }
      ]
    },
    {
      "cell_type": "code",
      "source": [
        "# 입력값이 없는 함수\n",
        "def say():\n",
        "    return 'Hi'\n",
        "\n",
        "a = say()\n",
        "print(a)"
      ],
      "metadata": {
        "id": "FlYbSB4FvFJL"
      },
      "execution_count": null,
      "outputs": []
    },
    {
      "cell_type": "code",
      "source": [
        " # 리턴값이 없는 함수\n",
        "def add(a, b):\n",
        "    print('%d, %d의 합은 %d입니다.' % (a, b, a+b))\n",
        "\n",
        "add(3, 4)\n",
        "\n",
        "a = add(3, 4)\n",
        "print(a) # 리턴값이 없기에 none이라고 나옴"
      ],
      "metadata": {
        "colab": {
          "base_uri": "https://localhost:8080/"
        },
        "id": "ddKTVe8GvRL6",
        "outputId": "ff541150-4182-4f4e-a4ec-50cc29736cfc"
      },
      "execution_count": 7,
      "outputs": [
        {
          "output_type": "stream",
          "name": "stdout",
          "text": [
            "6, 4의 합은 10입니다.\n",
            "None\n"
          ]
        }
      ]
    },
    {
      "cell_type": "code",
      "source": [
        "# 입력값도, 리턴값도 없는 함수\n",
        "def say():\n",
        "    print('Hi')\n",
        "\n",
        "say()"
      ],
      "metadata": {
        "colab": {
          "base_uri": "https://localhost:8080/"
        },
        "id": "vHsxzl9ByHk7",
        "outputId": "45daf70c-01d6-422e-d91b-303e801d8f51"
      },
      "execution_count": 14,
      "outputs": [
        {
          "output_type": "stream",
          "name": "stdout",
          "text": [
            "Hi\n"
          ]
        }
      ]
    },
    {
      "cell_type": "code",
      "source": [
        "# 매개변수를 지정하여 호출\n",
        "\n",
        "def sub(a, b):\n",
        "    return a - b\n",
        "\n",
        "result = sub(a=7, b=3)\n",
        "print(result)\n",
        "\n",
        "result = sub(b=7, a=3)\n",
        "print(result)\n",
        "\n",
        "# 이렇게 매개변수를 지정하면 순서에 상관없이 사용할수 있다."
      ],
      "metadata": {
        "colab": {
          "base_uri": "https://localhost:8080/"
        },
        "id": "VyTXJ6WDzaMB",
        "outputId": "0c3c7b22-0f1a-4fe8-a053-f8decf4c7292"
      },
      "execution_count": 17,
      "outputs": [
        {
          "output_type": "stream",
          "name": "stdout",
          "text": [
            "4\n",
            "-4\n"
          ]
        }
      ]
    },
    {
      "cell_type": "code",
      "source": [
        "# 입력값이 많거나 몇개인지 모를 경우\n",
        "\n",
        "# def 함수_이름 (*매개변수) : # 소괄호 안에 *(아스타) 를 꼭 넣어야함\n",
        "#   수행할_문장\n",
        "\n",
        "def add_many(*args) :\n",
        "    result = 0\n",
        "    for i in args:\n",
        "        result = result + i\n",
        "    return result\n",
        "\n",
        "a = add_many(1, 2, 3, 4, 5, 6, 7, 8, 9, 10)\n",
        "print(a)"
      ],
      "metadata": {
        "colab": {
          "base_uri": "https://localhost:8080/"
        },
        "id": "wWDRhshnz51Z",
        "outputId": "973ac963-ef92-4d1e-de83-d5db74d5f999"
      },
      "execution_count": 23,
      "outputs": [
        {
          "output_type": "stream",
          "name": "stdout",
          "text": [
            "55\n"
          ]
        }
      ]
    },
    {
      "cell_type": "code",
      "source": [],
      "metadata": {
        "id": "YIJiev_k0hdB"
      },
      "execution_count": null,
      "outputs": []
    }
  ]
}