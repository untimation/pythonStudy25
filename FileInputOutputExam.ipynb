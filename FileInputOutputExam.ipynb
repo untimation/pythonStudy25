{
  "nbformat": 4,
  "nbformat_minor": 0,
  "metadata": {
    "colab": {
      "provenance": [],
      "authorship_tag": "ABX9TyNvNDkTbAamTNDR+izasjvV",
      "include_colab_link": true
    },
    "kernelspec": {
      "name": "python3",
      "display_name": "Python 3"
    },
    "language_info": {
      "name": "python"
    }
  },
  "cells": [
    {
      "cell_type": "markdown",
      "metadata": {
        "id": "view-in-github",
        "colab_type": "text"
      },
      "source": [
        "<a href=\"https://colab.research.google.com/github/untimation/pythonStudy25/blob/master/FileInputOutputExam.ipynb\" target=\"_parent\"><img src=\"https://colab.research.google.com/assets/colab-badge.svg\" alt=\"Open In Colab\"/></a>"
      ]
    },
    {
      "cell_type": "code",
      "execution_count": 6,
      "metadata": {
        "id": "bXxmg9wJFZXm"
      },
      "outputs": [],
      "source": [
        "# 파이썬은 파일을 이용해서 읽고 쓰기가 가능하다.\n",
        "# 과거에는 메모장으로 만든 텍스트 파일을 사용했었는데\n",
        "# 최근에는 엑셀로 만든 csv 파일을 활용하기도 한다.\n",
        "\n",
        "# 코랩은 리눅스 가상머신을 활용하고 있다.\n",
        "# 왼쪽에 폴더 아이콘을 선택하면 리눅스 커널이 보인다.\n",
        "# .. 을 누르면 상위 폴더로 간다.\n",
        "# 대부분 우리는 content라는 폴더에 데이터를 사용한다\n",
        "\n",
        "# 파일을 열고 사용하려면 open() 함수를 사용한다.\n",
        "# 파일객체 = open(파일이름, 모드)\n",
        "#                           R = 읽기 전용 Readme\n",
        "#                           W = 쓰기 가능 Write (처음부터 덮어씀)\n",
        "#                           A = 추가 기능 Append (아래에 추가기능)\n",
        "# 주의사항 : 파일을 열고 처리후 마지막에는 .close() 필수\n",
        "# 파일경로 (위치정보)는 / 슬래시를 활용\n",
        "# 간혹 c:\\user\\kkw\\test.csv 이런 파일을 열고 싶으면??\n",
        "# c:\\\\user\\\\kkw\\\\test.csv 처럼 \\\\을 써야 \\(역슬래시)로 인식한다. (이스케이프)\n",
        "# c:/user/kkw/test.csv 로 사용해도 됨"
      ]
    },
    {
      "cell_type": "code",
      "source": [
        "f = open(\"새파일.txt\", 'w')\n",
        "for i in range(1, 11):  # 1~10까지 반복하며 i에 넣은\n",
        "  data = \"테스트 %d번째 줄입니다.\\n\" % i  # i 값을 활용하여 텍스트에 기록\n",
        "  f.write(data)         # 위에서 만든 문자열을 파일에 기록\n",
        "f.close()               # 작업한 파일을 닫음"
      ],
      "metadata": {
        "id": "wyBQYKnhOPqz"
      },
      "execution_count": 5,
      "outputs": []
    },
    {
      "cell_type": "code",
      "source": [
        "f = open(\"새파일.txt\", 'r')\n",
        "while True:\n",
        "  line = f.readline()\n",
        "  if not line: break\n",
        "  print(line)\n",
        "f.close()"
      ],
      "metadata": {
        "id": "jisqbZtsOqfy"
      },
      "execution_count": 8,
      "outputs": []
    },
    {
      "cell_type": "code",
      "source": [
        " # f.readline() 은 첫 문장만 읽는것이고 f.readlines() 는 모든줄을 읽는것이다.\n",
        " # s 가 하나 더 붙어있다는 것에 유의하자.\n",
        "# f = open(\"새파일.txt\", 'r')\n",
        "# lines = f.readlines()\n",
        "# for line in lines:\n",
        "#   print(line)\n",
        "# f.close()\n",
        "\n",
        "# .strip을 이용하면 파일 안에 \\n을 제거한다.\n",
        "f = open(\"새파일.txt\", 'r')\n",
        "lines = f.readlines()\n",
        "for line in lines:\n",
        "    line = line.strip()  # 줄 끝의 줄 바꿈 문자를 제거한다.\n",
        "    print(line)\n",
        "f.close()"
      ],
      "metadata": {
        "colab": {
          "base_uri": "https://localhost:8080/"
        },
        "id": "efOg5qp1PVV6",
        "outputId": "d52e1fb3-4282-4c9d-9009-ccd44a92af36"
      },
      "execution_count": 25,
      "outputs": [
        {
          "output_type": "stream",
          "name": "stdout",
          "text": [
            "Life is too short, you need python\n",
            "Life is too short, you need python\n",
            "Life is too short, you need python\n"
          ]
        }
      ]
    },
    {
      "cell_type": "code",
      "source": [
        "# read.py\n",
        "# f.read()는 파일의 내용 전체를 문자열로 리턴한다.\n",
        "f = open(\"새파일.txt\", 'r')\n",
        "data = f.read()\n",
        "print(data)\n",
        "f.close()"
      ],
      "metadata": {
        "id": "GVzFjZsUQBfy"
      },
      "execution_count": 13,
      "outputs": []
    },
    {
      "cell_type": "code",
      "source": [
        "# file_with.py\n",
        "# with 문을 사용하면 with 문에 속해 있는 문장을 벗어나는\n",
        "# 순간, 열린 파일 객체 f가 자동으로 닫힌다.\n",
        "with open(\"새파일.txt\", \"a\") as f:\n",
        "    f.write(\"Life is too short, you need python\\n\")\n"
      ],
      "metadata": {
        "id": "Gyl5y-y4SjJ5"
      },
      "execution_count": 24,
      "outputs": []
    },
    {
      "cell_type": "code",
      "source": [],
      "metadata": {
        "id": "6uP2Vz3lT4NL"
      },
      "execution_count": null,
      "outputs": []
    }
  ]
}